{
 "cells": [
  {
   "cell_type": "code",
   "execution_count": 1,
   "id": "e9cbc05a-ca97-44b8-9976-78c6dad4034f",
   "metadata": {},
   "outputs": [
    {
     "name": "stdout",
     "output_type": "stream",
     "text": [
      "Defaulting to user installation because normal site-packages is not writeable\n",
      "Requirement already satisfied: spotipy in c:\\users\\kajal rathod\\appdata\\roaming\\python\\python312\\site-packages (2.24.0)\n",
      "Requirement already satisfied: nltk in c:\\users\\kajal rathod\\appdata\\roaming\\python\\python312\\site-packages (3.9.1)\n",
      "Requirement already satisfied: redis>=3.5.3 in c:\\users\\kajal rathod\\appdata\\roaming\\python\\python312\\site-packages (from spotipy) (5.1.1)\n",
      "Requirement already satisfied: requests>=2.25.0 in c:\\users\\kajal rathod\\appdata\\roaming\\python\\python312\\site-packages (from spotipy) (2.32.3)\n",
      "Requirement already satisfied: urllib3>=1.26.0 in c:\\users\\kajal rathod\\appdata\\roaming\\python\\python312\\site-packages (from spotipy) (2.2.2)\n",
      "Requirement already satisfied: click in c:\\users\\kajal rathod\\appdata\\roaming\\python\\python312\\site-packages (from nltk) (8.1.7)\n",
      "Requirement already satisfied: joblib in c:\\users\\kajal rathod\\appdata\\roaming\\python\\python312\\site-packages (from nltk) (1.4.0)\n",
      "Requirement already satisfied: regex>=2021.8.3 in c:\\users\\kajal rathod\\appdata\\roaming\\python\\python312\\site-packages (from nltk) (2024.9.11)\n",
      "Requirement already satisfied: tqdm in c:\\users\\kajal rathod\\appdata\\roaming\\python\\python312\\site-packages (from nltk) (4.66.5)\n",
      "Requirement already satisfied: charset-normalizer<4,>=2 in c:\\users\\kajal rathod\\appdata\\roaming\\python\\python312\\site-packages (from requests>=2.25.0->spotipy) (3.3.2)\n",
      "Requirement already satisfied: idna<4,>=2.5 in c:\\users\\kajal rathod\\appdata\\roaming\\python\\python312\\site-packages (from requests>=2.25.0->spotipy) (3.7)\n",
      "Requirement already satisfied: certifi>=2017.4.17 in c:\\users\\kajal rathod\\appdata\\roaming\\python\\python312\\site-packages (from requests>=2.25.0->spotipy) (2024.7.4)\n",
      "Requirement already satisfied: colorama in c:\\users\\kajal rathod\\appdata\\roaming\\python\\python312\\site-packages (from click->nltk) (0.4.6)\n"
     ]
    }
   ],
   "source": [
    "!pip install spotipy nltk"
   ]
  },
  {
   "cell_type": "code",
   "execution_count": 2,
   "id": "7f9340f9-20e3-4fb2-b5a4-956260c29f13",
   "metadata": {},
   "outputs": [
    {
     "name": "stderr",
     "output_type": "stream",
     "text": [
      "[nltk_data] Downloading package punkt to C:\\Users\\Kajal\n",
      "[nltk_data]     Rathod\\AppData\\Roaming\\nltk_data...\n",
      "[nltk_data]   Package punkt is already up-to-date!\n"
     ]
    },
    {
     "data": {
      "text/plain": [
       "True"
      ]
     },
     "execution_count": 2,
     "metadata": {},
     "output_type": "execute_result"
    }
   ],
   "source": [
    "import nltk\n",
    "nltk.download('punkt')"
   ]
  },
  {
   "cell_type": "code",
   "execution_count": 3,
   "id": "e3e3cc51-641e-4376-85d7-1f799aa59938",
   "metadata": {},
   "outputs": [
    {
     "name": "stdout",
     "output_type": "stream",
     "text": [
      "Defaulting to user installation because normal site-packages is not writeable\n",
      "Requirement already satisfied: tabulate in c:\\users\\kajal rathod\\appdata\\roaming\\python\\python312\\site-packages (0.9.0)\n"
     ]
    }
   ],
   "source": [
    "!pip install tabulate"
   ]
  },
  {
   "cell_type": "code",
   "execution_count": 4,
   "id": "f094edb4-83aa-4a0d-8b76-e3857380f9a6",
   "metadata": {},
   "outputs": [
    {
     "name": "stdout",
     "output_type": "stream",
     "text": [
      "Defaulting to user installation because normal site-packages is not writeable\n",
      "Requirement already satisfied: textblob in c:\\users\\kajal rathod\\appdata\\roaming\\python\\python312\\site-packages (0.18.0.post0)\n",
      "Requirement already satisfied: nltk>=3.8 in c:\\users\\kajal rathod\\appdata\\roaming\\python\\python312\\site-packages (from textblob) (3.9.1)\n",
      "Requirement already satisfied: click in c:\\users\\kajal rathod\\appdata\\roaming\\python\\python312\\site-packages (from nltk>=3.8->textblob) (8.1.7)\n",
      "Requirement already satisfied: joblib in c:\\users\\kajal rathod\\appdata\\roaming\\python\\python312\\site-packages (from nltk>=3.8->textblob) (1.4.0)\n",
      "Requirement already satisfied: regex>=2021.8.3 in c:\\users\\kajal rathod\\appdata\\roaming\\python\\python312\\site-packages (from nltk>=3.8->textblob) (2024.9.11)\n",
      "Requirement already satisfied: tqdm in c:\\users\\kajal rathod\\appdata\\roaming\\python\\python312\\site-packages (from nltk>=3.8->textblob) (4.66.5)\n",
      "Requirement already satisfied: colorama in c:\\users\\kajal rathod\\appdata\\roaming\\python\\python312\\site-packages (from click->nltk>=3.8->textblob) (0.4.6)\n"
     ]
    }
   ],
   "source": [
    "!pip install textblob"
   ]
  },
  {
   "cell_type": "code",
   "execution_count": 5,
   "id": "d69560fb-1425-47f9-a37c-6c830da5588d",
   "metadata": {},
   "outputs": [],
   "source": [
    "import pandas as pd\n",
    "from sklearn.model_selection import train_test_split\n",
    "from sklearn.ensemble import RandomForestClassifier\n",
    "from sklearn.metrics import classification_report\n",
    "import joblib\n"
   ]
  },
  {
   "cell_type": "code",
   "execution_count": 6,
   "id": "699a1577-772d-4aec-80b1-7ac1c6673989",
   "metadata": {},
   "outputs": [
    {
     "name": "stdout",
     "output_type": "stream",
     "text": [
      "                                          track_name          artist  \\\n",
      "0                       Pop like this Pt. 2 - Slowed  prodbycpkshawn   \n",
      "1  Popular (with Playboi Carti & Madonna) - From ...      The Weeknd   \n",
      "2                                Pop like this Pt. 2  prodbycpkshawn   \n",
      "3                           Pop Out (feat. Lil Tjay)          Polo G   \n",
      "4                       Pop like this Pt. 2 - Slowed  prodbycpkshawn   \n",
      "\n",
      "                                          album release_date  \\\n",
      "0                  Pop like this Pt. 2 (Slowed)   2024-06-01   \n",
      "1  Popular (Music from the HBO Original Series)   2023-06-02   \n",
      "2                           Pop like this Pt. 2   2024-05-29   \n",
      "3                                  Die A Legend   2019-06-07   \n",
      "4                  Pop like this Pt. 2 (Slowed)   2024-05-29   \n",
      "\n",
      "                            spotify_uri language  danceability  energy  \\\n",
      "0  spotify:track:4bt3S3Tqh5pvs33y9RlF8J  English         0.772   0.423   \n",
      "1  spotify:track:6WzRpISELf3YglGAh7TXcG  English         0.854   0.674   \n",
      "2  spotify:track:2Ct0MnmqHDvjLqpi5gxcSM  English         0.842   0.461   \n",
      "3  spotify:track:6uFn47ACjqYkc0jADwEdj1  English         0.772   0.639   \n",
      "4  spotify:track:3xvzR05d6KgexfzjJgDRDl  English         0.772   0.423   \n",
      "\n",
      "   valence    tempo  speechiness  acousticness  \n",
      "0    0.281  157.156       0.0562      0.009050  \n",
      "1    0.848   99.022       0.1840      0.051700  \n",
      "2    0.480  100.001       0.0675      0.000624  \n",
      "3    0.261  168.112       0.4670      0.150000  \n",
      "4    0.281  157.156       0.0562      0.009050  \n"
     ]
    }
   ],
   "source": [
    "# Load your dataset\n",
    "df = pd.read_csv(r'C:\\Users\\Kajal Rathod\\OneDrive\\Desktop\\Sentiment_Analysis\\ml_model\\english_hindi_songs_with_features.csv')\n",
    "\n",
    "# Display the first few rows of the dataset\n",
    "print(df.head())\n"
   ]
  },
  {
   "cell_type": "code",
   "execution_count": 7,
   "id": "dafa2f32-5c77-458b-b0e0-45df542e6937",
   "metadata": {},
   "outputs": [],
   "source": [
    "def assign_mood(row):\n",
    "    if row['energy'] > 0.7 and row['valence'] > 0.7:\n",
    "        return 'happy'\n",
    "    elif row['energy'] < 0.4 and row['valence'] < 0.4:\n",
    "        return 'sad'\n",
    "    elif row['energy'] > 0.7 and row['valence'] > 0.5:\n",
    "        return 'excited'\n",
    "    elif row['energy'] > 0.5 and row['valence'] > 0.6:\n",
    "        return 'romantic'\n",
    "    elif row['energy'] > 0.6:\n",
    "        return 'dancing'\n",
    "    elif row['energy'] > 0.7 and row['tempo'] > 120:\n",
    "        return 'workout'\n",
    "    else:\n",
    "        return 'tired'\n"
   ]
  },
  {
   "cell_type": "code",
   "execution_count": 8,
   "id": "60a87a3d-8693-4aec-ab55-296b9ad28d96",
   "metadata": {},
   "outputs": [
    {
     "name": "stdout",
     "output_type": "stream",
     "text": [
      "                                          track_name          artist      mood\n",
      "0                       Pop like this Pt. 2 - Slowed  prodbycpkshawn     tired\n",
      "1  Popular (with Playboi Carti & Madonna) - From ...      The Weeknd  romantic\n",
      "2                                Pop like this Pt. 2  prodbycpkshawn     tired\n",
      "3                           Pop Out (feat. Lil Tjay)          Polo G   dancing\n",
      "4                       Pop like this Pt. 2 - Slowed  prodbycpkshawn     tired\n"
     ]
    }
   ],
   "source": [
    "# Apply the function to create a new 'mood' column\n",
    "df['mood'] = df.apply(assign_mood, axis=1)\n",
    "\n",
    "# Display the updated dataframe\n",
    "print(df[['track_name', 'artist', 'mood']].head())\n"
   ]
  },
  {
   "cell_type": "code",
   "execution_count": 9,
   "id": "b49c035f-5c0e-42d6-b5e1-2ca22131fcc1",
   "metadata": {},
   "outputs": [],
   "source": [
    "# Prepare features (X) and labels (y)\n",
    "X = df[['danceability', 'energy', 'valence', 'tempo', 'speechiness', 'acousticness']]\n",
    "y = df['mood']\n",
    "\n",
    "# Split the dataset into training and testing sets\n",
    "X_train, X_test, y_train, y_test = train_test_split(X, y, test_size=0.2, random_state=42)\n"
   ]
  },
  {
   "cell_type": "code",
   "execution_count": 10,
   "id": "3d1b55ef-9bdf-49c1-9975-006c38699455",
   "metadata": {},
   "outputs": [
    {
     "name": "stdout",
     "output_type": "stream",
     "text": [
      "              precision    recall  f1-score   support\n",
      "\n",
      "     dancing       1.00      1.00      1.00         7\n",
      "     excited       1.00      1.00      1.00         7\n",
      "       happy       1.00      1.00      1.00        10\n",
      "    romantic       0.83      1.00      0.91         5\n",
      "         sad       1.00      0.83      0.91         6\n",
      "       tired       0.93      0.93      0.93        15\n",
      "\n",
      "    accuracy                           0.96        50\n",
      "   macro avg       0.96      0.96      0.96        50\n",
      "weighted avg       0.96      0.96      0.96        50\n",
      "\n"
     ]
    },
    {
     "data": {
      "text/plain": [
       "['song_recommendation_model.pkl']"
      ]
     },
     "execution_count": 10,
     "metadata": {},
     "output_type": "execute_result"
    }
   ],
   "source": [
    "# Initialize the Random Forest Classifier\n",
    "model = RandomForestClassifier(n_estimators=100, random_state=42)\n",
    "\n",
    "# Train the model\n",
    "model.fit(X_train, y_train)\n",
    "\n",
    "# Make predictions\n",
    "y_pred = model.predict(X_test)\n",
    "\n",
    "# Print classification report\n",
    "print(classification_report(y_test, y_pred))\n",
    "\n",
    "# Save the trained model\n",
    "joblib.dump(model, 'song_recommendation_model.pkl')\n"
   ]
  },
  {
   "cell_type": "code",
   "execution_count": 11,
   "id": "5114cc98-2bb8-4a10-bc89-1454c504bfdb",
   "metadata": {},
   "outputs": [
    {
     "name": "stdout",
     "output_type": "stream",
     "text": [
      "Predicted Mood for the new song: happy\n"
     ]
    },
    {
     "name": "stderr",
     "output_type": "stream",
     "text": [
      "C:\\Users\\Kajal Rathod\\AppData\\Roaming\\Python\\Python312\\site-packages\\sklearn\\base.py:493: UserWarning: X does not have valid feature names, but RandomForestClassifier was fitted with feature names\n",
      "  warnings.warn(\n"
     ]
    }
   ],
   "source": [
    "import joblib\n",
    "\n",
    "# Load the trained model\n",
    "model = joblib.load('song_recommendation_model.pkl')\n",
    "\n",
    "# Example new song's features, formatted as a 2D array (replace with actual values)\n",
    "new_song_features = [[0.8, 0.9, 0.8, 125, 0.4, 0.3]]  # Replace with actual song features\n",
    "\n",
    "# Predict the mood for the new song\n",
    "new_prediction = model.predict(new_song_features)\n",
    "\n",
    "# Print the predicted mood\n",
    "print(f'Predicted Mood for the new song: {new_prediction[0]}')\n"
   ]
  },
  {
   "cell_type": "code",
   "execution_count": 12,
   "id": "46d584a2-3285-4c85-b4f4-47a909262d5b",
   "metadata": {},
   "outputs": [
    {
     "name": "stdout",
     "output_type": "stream",
     "text": [
      "                               track_name           artist  \\\n",
      "10                              Pop Muzik                M   \n",
      "14                              Pop Rocks  Cherry Hencefox   \n",
      "18  Poppin' My Collar (feat. Project Pat)    Three 6 Mafia   \n",
      "28                    Poppin' Them Thangs           G-Unit   \n",
      "37                                    Pop           *NSYNC   \n",
      "\n",
      "                             spotify_uri  \n",
      "10  spotify:track:6z3HAUZpAyJ0ctsbAwAiw3  \n",
      "14  spotify:track:2s7CHkCAkTKVPhRWiPcOa6  \n",
      "18  spotify:track:5zd9TgduWbfFXwgnm3K3Rz  \n",
      "28  spotify:track:4E5IFAXCob6QqZaJMTw5YN  \n",
      "37  spotify:track:0Jc8qF1mUPo1A96HE9QxZz  \n"
     ]
    }
   ],
   "source": [
    "def recommend_songs_based_on_mood(mood_input, df):\n",
    "    # Filter the dataframe to find songs with the same mood\n",
    "    filtered_songs = df[df['mood'] == mood_input]\n",
    "\n",
    "    if not filtered_songs.empty:\n",
    "        return filtered_songs[['track_name', 'artist', 'spotify_uri']].head()\n",
    "    else:\n",
    "        return \"No songs found for this mood.\"\n",
    "    \n",
    "# Example input\n",
    "mood_input = \"happy\"  # This will come from the user\n",
    "recommended_songs = recommend_songs_based_on_mood(mood_input, df)\n",
    "\n",
    "print(recommended_songs)"
   ]
  },
  {
   "cell_type": "code",
   "execution_count": 16,
   "id": "8ce56db1-a6b0-4e3e-afa3-3799e34f97f8",
   "metadata": {},
   "outputs": [
    {
     "data": {
      "image/png": "[encoded data removed]",
      "text/plain": [
       "<Figure size 700x700 with 1 Axes>"
      ]
     },
     "metadata": {},
     "output_type": "display_data"
    }
   ],
   "source": [
    "import pandas as pd\n",
    "import matplotlib.pyplot as plt\n",
    "\n",
    "# Load your CSV file\n",
    "df = pd.read_csv('english_hindi_songs_with_features.csv')\n",
    "\n",
    "# Define your mood classification logic (including dancing mood)\n",
    "def classify_mood(row):\n",
    "    if row['energy'] > 0.7 and row['valence'] > 0.7:\n",
    "        return 'happy'\n",
    "    elif row['valence'] < 0.3:\n",
    "        return 'sad'\n",
    "    elif row['energy'] > 0.6 and row['valence'] > 0.5:\n",
    "        return 'romantic'\n",
    "    elif row['energy'] > 0.8 and row['valence'] > 0.5:\n",
    "        return 'excited'\n",
    "    elif row['energy'] > 0.6 and row['tempo'] > 120:\n",
    "        return 'workout'\n",
    "    elif row['energy'] > 0.6 and 100 <= row['tempo'] <= 120:\n",
    "        return 'dancing'\n",
    "    else:\n",
    "        return 'tired'\n",
    "\n",
    "# Apply the mood classification function to the dataset\n",
    "df['mood'] = df.apply(classify_mood, axis=1)\n",
    "\n",
    "# Count the number of songs for each mood\n",
    "mood_counts = df['mood'].value_counts()\n",
    "\n",
    "# Create a pie chart\n",
    "plt.figure(figsize=(7, 7))\n",
    "plt.pie(mood_counts, labels=mood_counts.index, autopct='%1.1f%%', startangle=140, colors=plt.cm.Paired.colors)\n",
    "plt.title(\"Distribution of Songs by Mood\")\n",
    "plt.show()\n",
    "\n"
   ]
  },
  {
   "cell_type": "code",
   "execution_count": 23,
   "id": "a0960e57-72c4-46b2-a5f0-ea73277808fe",
   "metadata": {},
   "outputs": [],
   "source": [
    "# import spotipy\n",
    "# from spotipy.oauth2 import SpotifyClientCredentials\n",
    "# import pandas as pd\n",
    "# import time\n",
    "# from tabulate import tabulate  # Import tabulate for better display\n",
    "\n",
    "# # Spotify API credentials\n",
    "# client_id = '1b9ae89ffb85423fa3d5dedb4c0605d9'\n",
    "# client_secret = '5e481f9acfb340ff94233b4c47f3336e'\n",
    "\n",
    "# # Authenticate with Spotify API\n",
    "# auth_manager = SpotifyClientCredentials(client_id=client_id, client_secret=client_secret)\n",
    "# sp = spotipy.Spotify(auth_manager=auth_manager)\n",
    "\n",
    "# # Function to search for tracks and retrieve song details + audio features\n",
    "# def get_tracks(query, language, limit=50):\n",
    "#     try:\n",
    "#         results = sp.search(q=query, type='track', limit=limit)\n",
    "#         tracks = results['tracks']['items']\n",
    "        \n",
    "#         track_data = []\n",
    "#         for track in tracks:\n",
    "#             track_info = {\n",
    "#                 'track_name': track['name'],\n",
    "#                 'artist': track['artists'][0]['name'],\n",
    "#                 'album': track['album']['name'],\n",
    "#                 'release_date': track['album']['release_date'],\n",
    "#                 'spotify_uri': track['uri'],  # Add Spotify URI link\n",
    "#                 'language': language  # Specify language passed as parameter\n",
    "#             }\n",
    "#             # Get audio features such as danceability, energy, valence, etc.\n",
    "#             features = sp.audio_features(track['id'])[0]\n",
    "#             if features:  # Ensure the track has audio features\n",
    "#                 track_info.update({\n",
    "#                     'danceability': features['danceability'],\n",
    "#                     'energy': features['energy'],\n",
    "#                     'valence': features['valence'],\n",
    "#                     'tempo': features['tempo'],\n",
    "#                     'speechiness': features['speechiness'],\n",
    "#                     'acousticness': features['acousticness']\n",
    "#                 })\n",
    "#                 track_data.append(track_info)\n",
    "#             time.sleep(0.1)  # Add a short delay to avoid rate limiting\n",
    "        \n",
    "#         return track_data\n",
    "\n",
    "#     except Exception as e:\n",
    "#         print(f\"Error fetching tracks: {e}\")\n",
    "#         return []\n",
    "\n",
    "# # Fetch English songs using different queries\n",
    "# english_pop = get_tracks(\"Pop\", language=\"English\", limit=50)\n",
    "# english_rock = get_tracks(\"Rock\", language=\"English\", limit=50)\n",
    "# english_hiphop = get_tracks(\"Hip-Hop\", language=\"English\", limit=50)\n",
    "\n",
    "# # Fetch Hindi songs using different queries\n",
    "# hindi_bollywood = get_tracks(\"Bollywood\", language=\"Hindi\", limit=50)\n",
    "# hindi_classical = get_tracks(\"Hindi Classical\", language=\"Hindi\", limit=50)\n",
    "\n",
    "# # Combine all tracks data into a single list\n",
    "# all_tracks = english_pop + english_rock + english_hiphop + hindi_bollywood + hindi_classical\n",
    "\n",
    "# # Convert the combined list to a DataFrame\n",
    "# df = pd.DataFrame(all_tracks)\n",
    "\n",
    "# # Save the DataFrame as a CSV file\n",
    "# df.to_csv('english_hindi_songs_with_features.csv', index=False)\n",
    "\n",
    "# # Print the dataset in a table format using tabulate\n",
    "# print(tabulate(df.head(10), headers='keys', tablefmt='grid'))  # Shows the first 10 rows in a table with borders\n"
   ]
  },
  {
   "cell_type": "code",
   "execution_count": 10,
   "id": "d838f4a9-5964-4627-92d7-2ec037e91780",
   "metadata": {},
   "outputs": [],
   "source": [
    "# import spotipy\n",
    "# from spotipy.oauth2 import SpotifyClientCredentials\n",
    "# import pandas as pd\n",
    "# from textblob import TextBlob\n",
    "# from tabulate import tabulate\n",
    "# import webbrowser  # To open the song link directly\n",
    "\n",
    "# # Load the dataset created earlier\n",
    "# df = pd.read_csv('english_hindi_songs_with_features.csv')\n",
    "\n",
    "# # Function to analyze mood based on user input\n",
    "# def get_user_mood(input_text):\n",
    "#     blob = TextBlob(input_text)\n",
    "#     sentiment_score = blob.sentiment.polarity\n",
    "    \n",
    "#     if sentiment_score > 0.5:\n",
    "#         return \"happy\"\n",
    "#     elif 0 < sentiment_score <= 0.5:\n",
    "#         return \"positive\"\n",
    "#     elif sentiment_score == 0:\n",
    "#         return \"neutral\"\n",
    "#     elif -0.5 <= sentiment_score < 0:\n",
    "#         return \"negative\"\n",
    "#     else:\n",
    "#         return \"sad\"\n",
    "\n",
    "# # Function to recommend songs based on the mood\n",
    "# def recommend_songs_based_on_mood(df, mood, num_songs=5):\n",
    "#     if mood == \"happy\":\n",
    "#         # High energy, high danceability for happy mood\n",
    "#         recommended_songs = df[(df['danceability'] > 0.6) & (df['energy'] > 0.6)]\n",
    "#     elif mood == \"sad\":\n",
    "#         # Low energy, high acousticness for sad mood\n",
    "#         recommended_songs = df[(df['energy'] < 0.5) & (df['acousticness'] > 0.5)]\n",
    "#     elif mood == \"excited\":\n",
    "#         # High tempo, high energy for excited mood\n",
    "#         recommended_songs = df[(df['tempo'] > 120) & (df['energy'] > 0.7)]\n",
    "#     elif mood == \"nervous\":\n",
    "#         # Mid-tempo, high valence for nervous (calming effect)\n",
    "#         recommended_songs = df[(df['tempo'] < 100) & (df['valence'] > 0.5)]\n",
    "#     elif mood == \"workout\" or mood == \"energy\":\n",
    "#         # High energy, high tempo for workout/energy mood\n",
    "#         recommended_songs = df[(df['energy'] > 0.7) & (df['tempo'] > 130)]\n",
    "#     elif mood == \"romantic\":\n",
    "#         # High valence, high acousticness for romantic mood\n",
    "#         recommended_songs = df[(df['valence'] > 0.5) & (df['acousticness'] > 0.5)]\n",
    "#     else:\n",
    "#         # Default balanced songs for neutral mood\n",
    "#         recommended_songs = df[(df['valence'] > 0.4) & (df['energy'] > 0.4)]\n",
    "    \n",
    "#     # Split into Hindi and English\n",
    "#     hindi_songs = recommended_songs[recommended_songs['language'] == 'Hindi']\n",
    "#     english_songs = recommended_songs[recommended_songs['language'] == 'English']\n",
    "\n",
    "#     # Select 5 songs from each language category\n",
    "#     selected_hindi = hindi_songs.sample(n=min(5, len(hindi_songs))) if len(hindi_songs) >= 5 else hindi_songs\n",
    "#     selected_english = english_songs.sample(n=min(5, len(english_songs))) if len(english_songs) >= 5 else english_songs\n",
    "\n",
    "#     # Combine the selected songs\n",
    "#     final_recommendations = pd.concat([selected_hindi, selected_english])\n",
    "\n",
    "#     return final_recommendations\n",
    "\n",
    "\n",
    "# # Ask the user for their mood\n",
    "# user_input = input(\"How are you feeling today? \")\n",
    "\n",
    "# # Get the user's mood\n",
    "# user_mood = get_user_mood(user_input)\n",
    "# print(f\"\\nDetected mood: {user_mood.capitalize()}\")\n",
    "\n",
    "# # Get song recommendations based on mood\n",
    "# recommended_songs = recommend_songs_based_on_mood(df, user_mood, num_songs=5)\n",
    "\n",
    "# # Print the song recommendations in a tabular format with Spotify links\n",
    "# if len(recommended_songs) > 0:\n",
    "#     print(\"\\nHere are some song recommendations for you:\")\n",
    "#     # Create a Spotify link column using the spotify_uri\n",
    "#     recommended_songs['spotify_link'] = \"https://open.spotify.com/track/\" + recommended_songs['spotify_uri'].str.split(':').str[-1]\n",
    "    \n",
    "#     # Display the recommendations in a tabular format using 'tabulate'\n",
    "#     print(tabulate(recommended_songs[['track_name', 'album', 'artist', 'language', 'spotify_link']], headers='keys', tablefmt='grid'))\n",
    "\n",
    "#     # Optional: Automatically open the first song's link in the default web browser\n",
    "#     first_song_link = recommended_songs.iloc[0]['spotify_link']\n",
    "#     webbrowser.open(first_song_link)\n",
    "\n",
    "# else:\n",
    "#     print(\"Sorry, no songs found for your mood.\")\n"
   ]
  },
  {
   "cell_type": "code",
   "execution_count": 11,
   "id": "eb94207a-90c3-438b-a706-4409ea38ab3b",
   "metadata": {},
   "outputs": [],
   "source": [
    "# import pandas as pd\n",
    "# import json\n",
    "\n",
    "# # Load the dataset\n",
    "# df = pd.read_csv('english_hindi_songs_with_features.csv')\n",
    "\n",
    "# # Function to analyze mood and recommend songs (the same as your existing logic)\n",
    "# def recommend_songs(mood):\n",
    "#     # Your recommendation logic here\n",
    "#     # ...\n",
    "\n",
    "#     # For simplicity, let's create a mock result\n",
    "#     recommendations = [\n",
    "#         {\"track_name\": \"Song 1\", \"album\": \"Album 1\", \"artist\": \"Artist 1\", \"spotify_link\": \"https://open.spotify.com/track/1\"},\n",
    "#         {\"track_name\": \"Song 2\", \"album\": \"Album 2\", \"artist\": \"Artist 2\", \"spotify_link\": \"https://open.spotify.com/track/2\"}\n",
    "#     ]\n",
    "\n",
    "#     # Return the result as JSON\n",
    "#     print(json.dumps(recommendations))\n",
    "\n",
    "# # Get the user input (mood) passed from Node.js\n",
    "# import sys\n",
    "# user_mood = sys.argv[1]\n",
    "\n",
    "# # Get recommendations\n",
    "# recommend_songs(user_mood)\n"
   ]
  },
  {
   "cell_type": "code",
   "execution_count": null,
   "id": "9d54a4cf-fc8d-4210-92cc-31c46b872ac4",
   "metadata": {},
   "outputs": [],
   "source": [
    "# dataset, vocab, max_len = [], set(), 0\n",
    "\n",
    "# # Preprocess the dataset by the specific IAM_Words dataset file structure\n",
    "# words = open(stow.join(dataset_path, \"words.txt\"), \"r\").readlines()\n",
    "# for line in tqdm(words):\n",
    "#     if line.startswith(\"#\"):\n",
    "#         continue\n",
    "\n",
    "#     line_split = line.split(\" \")\n",
    "#     if line_split[1] == \"err\":\n",
    "#         continue\n",
    "\n",
    "#     folder1 = line_split[0][:3]\n",
    "#     folder2 = line_split[0][:8]\n",
    "#     file_name = line_split[0] + \".png\"\n",
    "#     label = line_split[-1].rstrip('\\n')\n",
    "\n",
    "#     rel_path = stow.join(dataset_path, \"words\", folder1, folder2, file_name)\n",
    "#     if not stow.exists(rel_path):\n",
    "#         continue\n",
    "\n",
    "#     dataset.append([rel_path, label])\n",
    "#     vocab.update(list(label))\n",
    "#     max_len = max(max_len, len(label))"
   ]
  }
 ],
 "metadata": {
  "kernelspec": {
   "display_name": "Python 3 (ipykernel)",
   "language": "python",
   "name": "python3"
  },
  "language_info": {
   "codemirror_mode": {
    "name": "ipython",
    "version": 3
   },
   "file_extension": ".py",
   "mimetype": "text/x-python",
   "name": "python",
   "nbconvert_exporter": "python",
   "pygments_lexer": "ipython3",
   "version": "3.12.2"
  }
 },
 "nbformat": 4,
 "nbformat_minor": 5
}
