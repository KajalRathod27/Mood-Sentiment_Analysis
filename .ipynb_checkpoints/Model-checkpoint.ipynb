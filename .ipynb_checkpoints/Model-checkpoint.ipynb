{
 "cells": [
  {
   "cell_type": "code",
   "execution_count": 1,
   "id": "e9cbc05a-ca97-44b8-9976-78c6dad4034f",
   "metadata": {},
   "outputs": [
    {
     "name": "stdout",
     "output_type": "stream",
     "text": [
      "Defaulting to user installation because normal site-packages is not writeable\n",
      "Requirement already satisfied: spotipy in c:\\users\\kajal rathod\\appdata\\roaming\\python\\python312\\site-packages (2.24.0)\n",
      "Requirement already satisfied: nltk in c:\\users\\kajal rathod\\appdata\\roaming\\python\\python312\\site-packages (3.9.1)\n",
      "Requirement already satisfied: redis>=3.5.3 in c:\\users\\kajal rathod\\appdata\\roaming\\python\\python312\\site-packages (from spotipy) (5.1.1)\n",
      "Requirement already satisfied: requests>=2.25.0 in c:\\users\\kajal rathod\\appdata\\roaming\\python\\python312\\site-packages (from spotipy) (2.32.3)\n",
      "Requirement already satisfied: urllib3>=1.26.0 in c:\\users\\kajal rathod\\appdata\\roaming\\python\\python312\\site-packages (from spotipy) (2.2.2)\n",
      "Requirement already satisfied: click in c:\\users\\kajal rathod\\appdata\\roaming\\python\\python312\\site-packages (from nltk) (8.1.7)\n",
      "Requirement already satisfied: joblib in c:\\users\\kajal rathod\\appdata\\roaming\\python\\python312\\site-packages (from nltk) (1.4.0)\n",
      "Requirement already satisfied: regex>=2021.8.3 in c:\\users\\kajal rathod\\appdata\\roaming\\python\\python312\\site-packages (from nltk) (2024.9.11)\n",
      "Requirement already satisfied: tqdm in c:\\users\\kajal rathod\\appdata\\roaming\\python\\python312\\site-packages (from nltk) (4.66.5)\n",
      "Requirement already satisfied: charset-normalizer<4,>=2 in c:\\users\\kajal rathod\\appdata\\roaming\\python\\python312\\site-packages (from requests>=2.25.0->spotipy) (3.3.2)\n",
      "Requirement already satisfied: idna<4,>=2.5 in c:\\users\\kajal rathod\\appdata\\roaming\\python\\python312\\site-packages (from requests>=2.25.0->spotipy) (3.7)\n",
      "Requirement already satisfied: certifi>=2017.4.17 in c:\\users\\kajal rathod\\appdata\\roaming\\python\\python312\\site-packages (from requests>=2.25.0->spotipy) (2024.7.4)\n",
      "Requirement already satisfied: colorama in c:\\users\\kajal rathod\\appdata\\roaming\\python\\python312\\site-packages (from click->nltk) (0.4.6)\n"
     ]
    }
   ],
   "source": [
    "!pip install spotipy nltk"
   ]
  },
  {
   "cell_type": "code",
   "execution_count": 2,
   "id": "7f9340f9-20e3-4fb2-b5a4-956260c29f13",
   "metadata": {},
   "outputs": [
    {
     "name": "stderr",
     "output_type": "stream",
     "text": [
      "[nltk_data] Downloading package punkt to C:\\Users\\Kajal\n",
      "[nltk_data]     Rathod\\AppData\\Roaming\\nltk_data...\n",
      "[nltk_data]   Package punkt is already up-to-date!\n"
     ]
    },
    {
     "data": {
      "text/plain": [
       "True"
      ]
     },
     "execution_count": 2,
     "metadata": {},
     "output_type": "execute_result"
    }
   ],
   "source": [
    "import nltk\n",
    "nltk.download('punkt')"
   ]
  },
  {
   "cell_type": "code",
   "execution_count": 3,
   "id": "e3e3cc51-641e-4376-85d7-1f799aa59938",
   "metadata": {},
   "outputs": [
    {
     "name": "stdout",
     "output_type": "stream",
     "text": [
      "Defaulting to user installation because normal site-packages is not writeable\n",
      "Requirement already satisfied: tabulate in c:\\users\\kajal rathod\\appdata\\roaming\\python\\python312\\site-packages (0.9.0)\n"
     ]
    }
   ],
   "source": [
    "!pip install tabulate"
   ]
  },
  {
   "cell_type": "code",
   "execution_count": 9,
   "id": "a0960e57-72c4-46b2-a5f0-ea73277808fe",
   "metadata": {},
   "outputs": [
    {
     "name": "stdout",
     "output_type": "stream",
     "text": [
      "+----+----------------------------------------------------------------------------------------------------+--------------------+----------------------------------------------+----------------+--------------------------------------+------------+----------------+----------+-----------+---------+---------------+----------------+\n",
      "|    | track_name                                                                                         | artist             | album                                        | release_date   | spotify_uri                          | language   |   danceability |   energy |   valence |   tempo |   speechiness |   acousticness |\n",
      "+====+====================================================================================================+====================+==============================================+================+======================================+============+================+==========+===========+=========+===============+================+\n",
      "|  0 | Pop like this Pt. 2 - Slowed                                                                       | prodbycpkshawn     | Pop like this Pt. 2 (Slowed)                 | 2024-06-01     | spotify:track:4bt3S3Tqh5pvs33y9RlF8J | English    |          0.772 |    0.423 |     0.281 | 157.156 |        0.0562 |       0.00905  |\n",
      "+----+----------------------------------------------------------------------------------------------------+--------------------+----------------------------------------------+----------------+--------------------------------------+------------+----------------+----------+-----------+---------+---------------+----------------+\n",
      "|  1 | Popular (with Playboi Carti & Madonna) - From The Idol Vol. 1 (Music from the HBO Original Series) | The Weeknd         | Popular (Music from the HBO Original Series) | 2023-06-02     | spotify:track:6WzRpISELf3YglGAh7TXcG | English    |          0.854 |    0.674 |     0.848 |  99.022 |        0.184  |       0.0517   |\n",
      "+----+----------------------------------------------------------------------------------------------------+--------------------+----------------------------------------------+----------------+--------------------------------------+------------+----------------+----------+-----------+---------+---------------+----------------+\n",
      "|  2 | Pop like this Pt. 2                                                                                | prodbycpkshawn     | Pop like this Pt. 2                          | 2024-05-29     | spotify:track:2Ct0MnmqHDvjLqpi5gxcSM | English    |          0.842 |    0.461 |     0.48  | 100.001 |        0.0675 |       0.000624 |\n",
      "+----+----------------------------------------------------------------------------------------------------+--------------------+----------------------------------------------+----------------+--------------------------------------+------------+----------------+----------+-----------+---------+---------------+----------------+\n",
      "|  3 | Pop Out (feat. Lil Tjay)                                                                           | Polo G             | Die A Legend                                 | 2019-06-07     | spotify:track:6uFn47ACjqYkc0jADwEdj1 | English    |          0.772 |    0.639 |     0.261 | 168.112 |        0.467  |       0.15     |\n",
      "+----+----------------------------------------------------------------------------------------------------+--------------------+----------------------------------------------+----------------+--------------------------------------+------------+----------------+----------+-----------+---------+---------------+----------------+\n",
      "|  4 | Pop like this Pt. 2 - Slowed                                                                       | prodbycpkshawn     | Pop like this Pt. 2 (Slowed)                 | 2024-05-29     | spotify:track:3xvzR05d6KgexfzjJgDRDl | English    |          0.772 |    0.423 |     0.281 | 157.156 |        0.0562 |       0.00905  |\n",
      "+----+----------------------------------------------------------------------------------------------------+--------------------+----------------------------------------------+----------------+--------------------------------------+------------+----------------+----------+-----------+---------+---------------+----------------+\n",
      "|  5 | Popular Monster                                                                                    | Falling In Reverse | Popular Monster                              | 2019-11-20     | spotify:track:4GssB27iJeqmfGxS94Tfij | English    |          0.461 |    0.897 |     0.358 | 165.107 |        0.092  |       0.00821  |\n",
      "+----+----------------------------------------------------------------------------------------------------+--------------------+----------------------------------------------+----------------+--------------------------------------+------------+----------------+----------+-----------+---------+---------------+----------------+\n",
      "|  6 | Popular Monster                                                                                    | Falling In Reverse | Popular Monster                              | 2024-08-16     | spotify:track:4myFsmx2v6znDOJfn3IkbD | English    |          0.461 |    0.898 |     0.353 | 165.079 |        0.0931 |       0.0083   |\n",
      "+----+----------------------------------------------------------------------------------------------------+--------------------+----------------------------------------------+----------------+--------------------------------------+------------+----------------+----------+-----------+---------+---------------+----------------+\n",
      "|  7 | Poppin                                                                                             | Yeat               | 2 Alivë                                      | 2022-02-18     | spotify:track:3wn8nOygkHLUQ9dlXM1rKW | English    |          0.705 |    0.613 |     0.259 |  74.521 |        0.123  |       0.262    |\n",
      "+----+----------------------------------------------------------------------------------------------------+--------------------+----------------------------------------------+----------------+--------------------------------------+------------+----------------+----------+-----------+---------+---------------+----------------+\n",
      "|  8 | Pop like this Pt. 2 - Sped Up                                                                      | prodbycpkshawn     | Pop like this Pt. 2 (Sped Up)                | 2024-05-22     | spotify:track:0umAduzH6cuIMorxfeGtUN | English    |          0.847 |    0.559 |     0.476 | 108.004 |        0.0498 |       0.000401 |\n",
      "+----+----------------------------------------------------------------------------------------------------+--------------------+----------------------------------------------+----------------+--------------------------------------+------------+----------------+----------+-----------+---------+---------------+----------------+\n",
      "|  9 | POPTHATRUNK                                                                                        | 1nonly             | POPTHATRUNK                                  | 2023-08-25     | spotify:track:4BLbZo3DCqQXMzogWV1GNP | English    |          0.73  |    0.782 |     0.593 | 180.068 |        0.05   |       0.0766   |\n",
      "+----+----------------------------------------------------------------------------------------------------+--------------------+----------------------------------------------+----------------+--------------------------------------+------------+----------------+----------+-----------+---------+---------------+----------------+\n"
     ]
    }
   ],
   "source": [
    "import spotipy\n",
    "from spotipy.oauth2 import SpotifyClientCredentials\n",
    "import pandas as pd\n",
    "import time\n",
    "from tabulate import tabulate  # Import tabulate for better display\n",
    "\n",
    "# Spotify API credentials\n",
    "client_id = '1b9ae89ffb85423fa3d5dedb4c0605d9'\n",
    "client_secret = '5e481f9acfb340ff94233b4c47f3336e'\n",
    "\n",
    "# Authenticate with Spotify API\n",
    "auth_manager = SpotifyClientCredentials(client_id=client_id, client_secret=client_secret)\n",
    "sp = spotipy.Spotify(auth_manager=auth_manager)\n",
    "\n",
    "# Function to search for tracks and retrieve song details + audio features\n",
    "def get_tracks(query, language, limit=50):\n",
    "    try:\n",
    "        results = sp.search(q=query, type='track', limit=limit)\n",
    "        tracks = results['tracks']['items']\n",
    "        \n",
    "        track_data = []\n",
    "        for track in tracks:\n",
    "            track_info = {\n",
    "                'track_name': track['name'],\n",
    "                'artist': track['artists'][0]['name'],\n",
    "                'album': track['album']['name'],\n",
    "                'release_date': track['album']['release_date'],\n",
    "                'spotify_uri': track['uri'],  # Add Spotify URI link\n",
    "                'language': language  # Specify language passed as parameter\n",
    "            }\n",
    "            # Get audio features such as danceability, energy, valence, etc.\n",
    "            features = sp.audio_features(track['id'])[0]\n",
    "            if features:  # Ensure the track has audio features\n",
    "                track_info.update({\n",
    "                    'danceability': features['danceability'],\n",
    "                    'energy': features['energy'],\n",
    "                    'valence': features['valence'],\n",
    "                    'tempo': features['tempo'],\n",
    "                    'speechiness': features['speechiness'],\n",
    "                    'acousticness': features['acousticness']\n",
    "                })\n",
    "                track_data.append(track_info)\n",
    "            time.sleep(0.1)  # Add a short delay to avoid rate limiting\n",
    "        \n",
    "        return track_data\n",
    "\n",
    "    except Exception as e:\n",
    "        print(f\"Error fetching tracks: {e}\")\n",
    "        return []\n",
    "\n",
    "# Fetch English songs using different queries\n",
    "english_pop = get_tracks(\"Pop\", language=\"English\", limit=50)\n",
    "english_rock = get_tracks(\"Rock\", language=\"English\", limit=50)\n",
    "english_hiphop = get_tracks(\"Hip-Hop\", language=\"English\", limit=50)\n",
    "\n",
    "# Fetch Hindi songs using different queries\n",
    "hindi_bollywood = get_tracks(\"Bollywood\", language=\"Hindi\", limit=50)\n",
    "hindi_classical = get_tracks(\"Hindi Classical\", language=\"Hindi\", limit=50)\n",
    "\n",
    "# Combine all tracks data into a single list\n",
    "all_tracks = english_pop + english_rock + english_hiphop + hindi_bollywood + hindi_classical\n",
    "\n",
    "# Convert the combined list to a DataFrame\n",
    "df = pd.DataFrame(all_tracks)\n",
    "\n",
    "# Save the DataFrame as a CSV file\n",
    "df.to_csv('english_hindi_songs_with_features.csv', index=False)\n",
    "\n",
    "# Print the dataset in a table format using tabulate\n",
    "print(tabulate(df.head(10), headers='keys', tablefmt='grid'))  # Shows the first 10 rows in a table with borders\n"
   ]
  },
  {
   "cell_type": "code",
   "execution_count": 10,
   "id": "f094edb4-83aa-4a0d-8b76-e3857380f9a6",
   "metadata": {},
   "outputs": [
    {
     "name": "stdout",
     "output_type": "stream",
     "text": [
      "Defaulting to user installation because normal site-packages is not writeable\n",
      "Requirement already satisfied: textblob in c:\\users\\kajal rathod\\appdata\\roaming\\python\\python312\\site-packages (0.18.0.post0)\n",
      "Requirement already satisfied: nltk>=3.8 in c:\\users\\kajal rathod\\appdata\\roaming\\python\\python312\\site-packages (from textblob) (3.9.1)\n",
      "Requirement already satisfied: click in c:\\users\\kajal rathod\\appdata\\roaming\\python\\python312\\site-packages (from nltk>=3.8->textblob) (8.1.7)\n",
      "Requirement already satisfied: joblib in c:\\users\\kajal rathod\\appdata\\roaming\\python\\python312\\site-packages (from nltk>=3.8->textblob) (1.4.0)\n",
      "Requirement already satisfied: regex>=2021.8.3 in c:\\users\\kajal rathod\\appdata\\roaming\\python\\python312\\site-packages (from nltk>=3.8->textblob) (2024.9.11)\n",
      "Requirement already satisfied: tqdm in c:\\users\\kajal rathod\\appdata\\roaming\\python\\python312\\site-packages (from nltk>=3.8->textblob) (4.66.5)\n",
      "Requirement already satisfied: colorama in c:\\users\\kajal rathod\\appdata\\roaming\\python\\python312\\site-packages (from click->nltk>=3.8->textblob) (0.4.6)\n"
     ]
    }
   ],
   "source": [
    "!pip install textblob"
   ]
  },
  {
   "cell_type": "code",
   "execution_count": 13,
   "id": "d838f4a9-5964-4627-92d7-2ec037e91780",
   "metadata": {},
   "outputs": [
    {
     "name": "stdin",
     "output_type": "stream",
     "text": [
      "How are you feeling today?  Romantic\n"
     ]
    },
    {
     "name": "stdout",
     "output_type": "stream",
     "text": [
      "\n",
      "Detected mood: Neutral\n",
      "\n",
      "Here are some song recommendations for you:\n",
      "+-----+--------------------------------+----------------------------------------------------------------------+-------------------+------------+-------------------------------------------------------+\n",
      "|     | track_name                     | album                                                                | artist            | language   | spotify_link                                          |\n",
      "+=====+================================+======================================================================+===================+============+=======================================================+\n",
      "| 164 | Kala Chashma                   | Baar Baar Dekho (Original Motion Picture Soundtrack)                 | Prem & Hardeep    | Hindi      | https://open.spotify.com/track/6mdLX10dvBb7rGYbMXpKzz |\n",
      "+-----+--------------------------------+----------------------------------------------------------------------+-------------------+------------+-------------------------------------------------------+\n",
      "| 244 | Baiyan Na Dharo                | Hindi Film Classical Songs                                           | Lata Mangeshkar   | Hindi      | https://open.spotify.com/track/0Fo83rvZRqVWc6sE9cU4Ag |\n",
      "+-----+--------------------------------+----------------------------------------------------------------------+-------------------+------------+-------------------------------------------------------+\n",
      "| 194 | Bollywood                      | Egzotyka                                                             | Quebonafide       | Hindi      | https://open.spotify.com/track/042LPJOfWrG1AdTSVsvGLD |\n",
      "+-----+--------------------------------+----------------------------------------------------------------------+-------------------+------------+-------------------------------------------------------+\n",
      "| 156 | Thumkeshwari                   | Bhediya (Original Motion Picture Soundtrack)                         | Sachin-Jigar      | Hindi      | https://open.spotify.com/track/6LN9PyBfR0Im2CPFi6sy4d |\n",
      "+-----+--------------------------------+----------------------------------------------------------------------+-------------------+------------+-------------------------------------------------------+\n",
      "| 175 | Bollywood Bounce               | Original Classic                                                     | Keys N Krates     | Hindi      | https://open.spotify.com/track/1T2VccvaJGfikiCn3DspQm |\n",
      "+-----+--------------------------------+----------------------------------------------------------------------+-------------------+------------+-------------------------------------------------------+\n",
      "|  32 | What You Know Bout Love        | Shoot For The Stars Aim For The Moon                                 | Pop Smoke         | English    | https://open.spotify.com/track/1tkg4EHVoqnhR6iFEXb60y |\n",
      "+-----+--------------------------------+----------------------------------------------------------------------+-------------------+------------+-------------------------------------------------------+\n",
      "|  74 | Rock Lobster                   | The B-52's                                                           | The B-52's        | English    | https://open.spotify.com/track/2Q5wSOwq6BDSu7sSVMNrtT |\n",
      "+-----+--------------------------------+----------------------------------------------------------------------+-------------------+------------+-------------------------------------------------------+\n",
      "|  89 | Rockefeller Street (Nightcore) | Rockefeller Street (Nightcore)                                       | Caleb Hyles       | English    | https://open.spotify.com/track/0GfO5Of8NOwzTRUAPRtSlg |\n",
      "+-----+--------------------------------+----------------------------------------------------------------------+-------------------+------------+-------------------------------------------------------+\n",
      "|  97 | Rock My Body                   | Rock My Body (with INNA & Sash!)                                     | R3HAB             | English    | https://open.spotify.com/track/6pb5DtlAeG95dNQLHiArRU |\n",
      "+-----+--------------------------------+----------------------------------------------------------------------+-------------------+------------+-------------------------------------------------------+\n",
      "|  38 | Pop Goes the Weasel            | Mother Goose Club Sings Nursery Rhymes Vol. 5: Rhyme Around the Rosy | Mother Goose Club | English    | https://open.spotify.com/track/7JFE3QoZc0N0tzIhuaskZL |\n",
      "+-----+--------------------------------+----------------------------------------------------------------------+-------------------+------------+-------------------------------------------------------+\n"
     ]
    }
   ],
   "source": [
    "import spotipy\n",
    "from spotipy.oauth2 import SpotifyClientCredentials\n",
    "import pandas as pd\n",
    "from textblob import TextBlob\n",
    "from tabulate import tabulate\n",
    "import webbrowser  # To open the song link directly\n",
    "\n",
    "# Load the dataset created earlier\n",
    "df = pd.read_csv('english_hindi_songs_with_features.csv')\n",
    "\n",
    "# Function to analyze mood based on user input\n",
    "def get_user_mood(input_text):\n",
    "    blob = TextBlob(input_text)\n",
    "    sentiment_score = blob.sentiment.polarity\n",
    "    \n",
    "    if sentiment_score > 0.5:\n",
    "        return \"happy\"\n",
    "    elif 0 < sentiment_score <= 0.5:\n",
    "        return \"positive\"\n",
    "    elif sentiment_score == 0:\n",
    "        return \"neutral\"\n",
    "    elif -0.5 <= sentiment_score < 0:\n",
    "        return \"negative\"\n",
    "    else:\n",
    "        return \"sad\"\n",
    "\n",
    "# Function to recommend songs based on the mood\n",
    "def recommend_songs_based_on_mood(df, mood, num_songs=5):\n",
    "    if mood == \"happy\":\n",
    "        # High energy, high danceability for happy mood\n",
    "        recommended_songs = df[(df['danceability'] > 0.6) & (df['energy'] > 0.6)]\n",
    "    elif mood == \"sad\":\n",
    "        # Low energy, high acousticness for sad mood\n",
    "        recommended_songs = df[(df['energy'] < 0.5) & (df['acousticness'] > 0.5)]\n",
    "    elif mood == \"excited\":\n",
    "        # High tempo, high energy for excited mood\n",
    "        recommended_songs = df[(df['tempo'] > 120) & (df['energy'] > 0.7)]\n",
    "    elif mood == \"nervous\":\n",
    "        # Mid-tempo, high valence for nervous (calming effect)\n",
    "        recommended_songs = df[(df['tempo'] < 100) & (df['valence'] > 0.5)]\n",
    "    elif mood == \"workout\" or mood == \"energy\":\n",
    "        # High energy, high tempo for workout/energy mood\n",
    "        recommended_songs = df[(df['energy'] > 0.7) & (df['tempo'] > 130)]\n",
    "    elif mood == \"romantic\":\n",
    "        # High valence, high acousticness for romantic mood\n",
    "        recommended_songs = df[(df['valence'] > 0.5) & (df['acousticness'] > 0.5)]\n",
    "    else:\n",
    "        # Default balanced songs for neutral mood\n",
    "        recommended_songs = df[(df['valence'] > 0.4) & (df['energy'] > 0.4)]\n",
    "    \n",
    "    # Split into Hindi and English\n",
    "    hindi_songs = recommended_songs[recommended_songs['language'] == 'Hindi']\n",
    "    english_songs = recommended_songs[recommended_songs['language'] == 'English']\n",
    "\n",
    "    # Select 5 songs from each language category\n",
    "    selected_hindi = hindi_songs.sample(n=min(5, len(hindi_songs))) if len(hindi_songs) >= 5 else hindi_songs\n",
    "    selected_english = english_songs.sample(n=min(5, len(english_songs))) if len(english_songs) >= 5 else english_songs\n",
    "\n",
    "    # Combine the selected songs\n",
    "    final_recommendations = pd.concat([selected_hindi, selected_english])\n",
    "\n",
    "    return final_recommendations\n",
    "\n",
    "\n",
    "# Ask the user for their mood\n",
    "user_input = input(\"How are you feeling today? \")\n",
    "\n",
    "# Get the user's mood\n",
    "user_mood = get_user_mood(user_input)\n",
    "print(f\"\\nDetected mood: {user_mood.capitalize()}\")\n",
    "\n",
    "# Get song recommendations based on mood\n",
    "recommended_songs = recommend_songs_based_on_mood(df, user_mood, num_songs=5)\n",
    "\n",
    "# Print the song recommendations in a tabular format with Spotify links\n",
    "if len(recommended_songs) > 0:\n",
    "    print(\"\\nHere are some song recommendations for you:\")\n",
    "    # Create a Spotify link column using the spotify_uri\n",
    "    recommended_songs['spotify_link'] = \"https://open.spotify.com/track/\" + recommended_songs['spotify_uri'].str.split(':').str[-1]\n",
    "    \n",
    "    # Display the recommendations in a tabular format using 'tabulate'\n",
    "    print(tabulate(recommended_songs[['track_name', 'album', 'artist', 'language', 'spotify_link']], headers='keys', tablefmt='grid'))\n",
    "\n",
    "    # Optional: Automatically open the first song's link in the default web browser\n",
    "    first_song_link = recommended_songs.iloc[0]['spotify_link']\n",
    "    webbrowser.open(first_song_link)\n",
    "\n",
    "else:\n",
    "    print(\"Sorry, no songs found for your mood.\")\n"
   ]
  },
  {
   "cell_type": "code",
   "execution_count": null,
   "id": "eb94207a-90c3-438b-a706-4409ea38ab3b",
   "metadata": {},
   "outputs": [],
   "source": []
  }
 ],
 "metadata": {
  "kernelspec": {
   "display_name": "Python 3 (ipykernel)",
   "language": "python",
   "name": "python3"
  },
  "language_info": {
   "codemirror_mode": {
    "name": "ipython",
    "version": 3
   },
   "file_extension": ".py",
   "mimetype": "text/x-python",
   "name": "python",
   "nbconvert_exporter": "python",
   "pygments_lexer": "ipython3",
   "version": "3.12.2"
  }
 },
 "nbformat": 4,
 "nbformat_minor": 5
}
